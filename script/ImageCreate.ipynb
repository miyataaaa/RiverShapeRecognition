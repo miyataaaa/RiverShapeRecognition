{
 "cells": [
  {
   "cell_type": "code",
   "execution_count": 98,
   "metadata": {},
   "outputs": [],
   "source": [
    "from landlab.components import AnalysisManager, ChannelProfiler,  FlowAccumulator\n",
    "from landlab import RasterModelGrid\n",
    "from landlab.plot import imshow_grid\n",
    "import matplotlib.pyplot as plt\n",
    "from matplotlib.collections import LineCollection, PatchCollection\n",
    "from matplotlib.patches import Rectangle\n",
    "import numpy as np\n",
    "import pandas as pd\n",
    "import seaborn as sns\n",
    "import warnings\n",
    "import cv2\n",
    "from typing import Tuple, Union, List\n",
    "from collections import OrderedDict\n",
    "from sklearn.linear_model import LinearRegression\n",
    "import statsmodels.api as sm\n",
    "import os\n",
    "from tqdm import tqdm\n",
    "import multiprocessing"
   ]
  },
  {
   "cell_type": "markdown",
   "metadata": {},
   "source": [
    "# クラス定義"
   ]
  },
  {
   "cell_type": "code",
   "execution_count": 2,
   "metadata": {},
   "outputs": [],
   "source": [
    "from landlab.components import AnalysisManager, ChannelProfiler,  FlowAccumulator\n",
    "from landlab import RasterModelGrid\n",
    "from landlab.plot import imshow_grid\n",
    "import matplotlib.pyplot as plt\n",
    "from matplotlib.collections import LineCollection, PatchCollection\n",
    "from matplotlib.patches import Rectangle\n",
    "import numpy as np\n",
    "import pandas as pd\n",
    "import seaborn as sns\n",
    "import warnings\n",
    "import cv2\n",
    "from typing import Tuple, Union, List\n",
    "from collections import OrderedDict\n",
    "from sklearn.linear_model import LinearRegression\n",
    "import statsmodels.api as sm\n",
    "import os\n",
    "from tqdm import tqdm\n",
    "import multiprocessing\n",
    "\n",
    "class ChannelExtractor(AnalysisManager):\n",
    "\n",
    "    \"\"\"\n",
    "    本流路のマスクを作成し、そのマスクを用いて画像を作成する。背景となる変数は、S_s, da, zのいずれかを指定する。\n",
    "    \"\"\"    \n",
    "\n",
    "    def __init__(self, dirpath: str, HDF_fname: str, output_dir: str, \n",
    "                 background_vname: str=\"S_s\", min_value_for_normalization: float=None,\n",
    "                 max_value_for_normalization: float=None, Yrs: List[int]=None,\n",
    "                 cols_from_outlet: int=40, rows_from_outlet: int=90,\n",
    "                 cmap=\"binary\"):\n",
    "\n",
    "        \"\"\"\n",
    "        Parameters\n",
    "        ----------\n",
    "        dirpath : str\n",
    "            データのあるディレクトリのパス\n",
    "        HDF_fname : str\n",
    "            データのあるHDFファイル名\n",
    "        output_dir : str\n",
    "            画像を保存するディレクトリのパス\n",
    "        background_vname : str, optional\n",
    "            背景となる変数名{S_s, da, z}. The default is \"S_s\".\n",
    "        min_value_for_normalization : float, optional\n",
    "            背景となる変数の最小値. The default is None.\n",
    "        max_value_for_normalization : float, optional\n",
    "            背景となる変数の最大値. The default is None.\n",
    "        Yrs : List[int], optional\n",
    "            画像を作成する年度のリスト. The default is None.\n",
    "        cols_from_outlet : int, optional\n",
    "            河口ノードから左右に抽出する列数. The default is 40.\n",
    "        rows_from_outlet : int, optional\n",
    "            河口ノードから上流側に抽出する行数. The default is 90.\n",
    "        \"\"\"        \n",
    "\n",
    "        super().__init__(dirpath, HDF_fname)\n",
    "\n",
    "        self.output_dir = output_dir\n",
    "        self.background_vname = background_vname # 背景となる変数名{S_s, da, z}\n",
    "        self.min_value_for_normalization = min_value_for_normalization # 背景となる変数の最小値\n",
    "        self.max_value_for_normalization = max_value_for_normalization # 背景となる変数の最大値\n",
    "        self.Yrs = Yrs # 画像を作成する年度のリスト\n",
    "        self.cols_from_outlet = cols_from_outlet # 河口ノードから左右に抽出する列数\n",
    "        self.rows_from_outlet = rows_from_outlet\n",
    "        self.cmap = plt.cm.get_cmap(cmap)\n",
    "\n",
    "        if not os.path.exists(self.output_dir):\n",
    "            os.makedirs(self.output_dir)\n",
    "\n",
    "    def initialize_at_readYr(self, read_Yr: int, main_channel_only: bool=True,\n",
    "                             mg: RasterModelGrid=None, fa: FlowAccumulator=None,\n",
    "                             prf: ChannelProfiler=None):\n",
    "                             \n",
    "\n",
    "        \"\"\"\n",
    "        read_Yrで指定した年度のデータを読み込み、以下の初期化を行う. 引数にmg, fa, prfを指定した場合は、それらを用いて初期化を行う。\n",
    "        ただし、それらのmg, prfはfa.run_one_step(), prf.run_one_step()を実行した後のものである必要がある。\n",
    "\n",
    "        1. RasterModelGrid, FlowAccumulator, topographic__elevation, ChannelProfilerを作成する。\n",
    "        2. ChannelProfiler.run_one_step()を実行し、本流路の情報を取得する。\n",
    "\n",
    "        Parameters\n",
    "        ----------\n",
    "        read_Yr : int\n",
    "            読み込む年度\n",
    "        main_channel_only : bool, optional\n",
    "            本流路のみを取得するかどうか. The default is True.\n",
    "            prfオブジェクトが指定されている場合は、prfオブジェクトの設定に従う。\n",
    "        mg : RasterModelGrid, optional  \n",
    "            RasterModelGrid. The default is None.\n",
    "        fa : FlowAccumulator, optional\n",
    "            FlowAccumulator. The default is None.\n",
    "        prf : ChannelProfiler, optional\n",
    "            ChannelProfiler. The default is None.\n",
    "        \"\"\"        \n",
    "\n",
    "        self.read_Yr = read_Yr\n",
    "\n",
    "        if (mg is None) or (fa is None) or (prf is None):\n",
    "            self.mg = self.create_mg(Yr=self.read_Yr) \n",
    "            self.fa = self.create_fa(mg=self.mg)\n",
    "            self.fa.run_one_step()\n",
    "            thresh_da = self.Latero_dict[\"thresh_da\"]\n",
    "            self.prf = ChannelProfiler(self.mg, number_of_watersheds=1, \n",
    "                                       main_channel_only=main_channel_only, \n",
    "                                       minimum_channel_threshold=thresh_da)\n",
    "            self.prf.run_one_step()\n",
    "        else:\n",
    "            self.mg = mg\n",
    "            self.fa = fa\n",
    "            self.prf = prf\n",
    "\n",
    "        self.z = self.mg.at_node['topographic__elevation']\n",
    "        self.da = self.mg.at_node['drainage_area']\n",
    "        self.S_s = self.mg.at_node['topographic__steepest_slope']\n",
    "        self.ncols, self.nrows = self.mg.shape\n",
    "        self.flow_node_ids = self.prf._nodes[0]\n",
    "\n",
    "        self.xarr_map = self.mg.x_of_node # 領域全体のx座標の1次元配列\n",
    "        self.yarr_map = self.mg.y_of_node # 領域全体のy座標の1次元配列\n",
    "        self.xarr_flow = self.mg.x_of_node[self.flow_node_ids] # 本流路のx座標の1次元配列. 下流から上流に向かって並んでいる\n",
    "        self.yarr_flow = self.mg.y_of_node[self.flow_node_ids] # 本流路のy座標の1次元配列. 下流から上流に向かって並んでいる\n",
    "\n",
    "        self.map_edge_ids = self.mg.boundary_nodes # 領域全体の境界のノードIDの1次元配列\n",
    "\n",
    "        self.outlet_id = self.prf._outlet_nodes[0] # 流出点のノードID\n",
    "        self.outlet_x = self.mg.x_of_node[self.outlet_id] # 流出点のx座標\n",
    "        self.outlet_y = self.mg.y_of_node[self.outlet_id] # 流出点のy座標\n",
    "        self.outlet_col = np.where(self.mg.node_x == self.outlet_x)[0][0] # 流出点の列番号\n",
    "        self.outlet_row = np.where(self.mg.node_y == self.outlet_y)[0][0] # 流出点の行番号\n",
    "\n",
    "        \n",
    "    def create_channel_mask(self) -> np.ndarray:\n",
    "\n",
    "        \"\"\"\n",
    "        本流路のマスクを作成する。\n",
    "\n",
    "        Returns\n",
    "        -------\n",
    "        channel_mask : np.ndarray\n",
    "            本流路のマスク\n",
    "        \"\"\"\n",
    "\n",
    "        channel_mask = np.zeros(self.z.shape, dtype=bool)\n",
    "        channel_mask[self.flow_node_ids] = True\n",
    "\n",
    "        if \"channel_mask\" not in self.mg.at_node:\n",
    "            self.mg.add_ones(\"channel_mask\", at=\"node\", dtype=bool)\n",
    "\n",
    "        self.mg.at_node[\"channel_mask\"] = channel_mask\n",
    "\n",
    "        return channel_mask    \n",
    "    \n",
    "    def create_masked_elevation_map(self, mask: np.ndarray, field_name: str=\"masked_elevation\") -> np.ndarray:\n",
    "            \n",
    "        \"\"\"\n",
    "        任意のマスクを用いて、標高マップをマスクする。\n",
    "\n",
    "        Parameters\n",
    "        ----------\n",
    "        mask : np.ndarray\n",
    "            任意のマスク\n",
    "\n",
    "        Returns\n",
    "        -------\n",
    "        masked_elevation_map : np.ndarray\n",
    "            マスクされた標高マップ\n",
    "        \"\"\"\n",
    "\n",
    "        zmin = np.min(self.z)\n",
    "        masked_elevation_map = np.where(mask, self.z, zmin)\n",
    "\n",
    "        if field_name not in self.mg.at_node:\n",
    "            self.mg.add_zeros(field_name, at=\"node\", dtype=float)\n",
    "\n",
    "        self.mg.at_node[field_name] = masked_elevation_map\n",
    "\n",
    "        return masked_elevation_map\n",
    "    \n",
    "    def create_gradient_image(self, mask: np.ndarray, value: np.ndarray, \n",
    "                              min_value: float, max_value: float, cmap: plt.cm) -> np.ndarray:\n",
    "\n",
    "        \"\"\"\n",
    "        任意のマスクを用いて、標高マップをマスクする。その際、標高値を正規化し、グラデーションカラーマップを用いてRGB値に変換する。\n",
    "\n",
    "        Returns\n",
    "        -------\n",
    "        output_img : np.ndarray\n",
    "            マスクされた標高マップ\n",
    "        \"\"\"        \n",
    "\n",
    "        # マスクから本流セルの標高値を抽出\n",
    "        mainstream_value = value[mask==1]\n",
    "        \n",
    "        # 標高値を正規化\n",
    "        if min_value is None:\n",
    "            min_value = np.min(mainstream_value)\n",
    "        if max_value is None:\n",
    "            max_value = np.max(mainstream_value)\n",
    "\n",
    "        mainstream_value = np.clip(mainstream_value, min_value, max_value)\n",
    "\n",
    "        normalized_value = (mainstream_value - min_value) / (max_value - min_value)\n",
    "    \n",
    "        # グラデーションカラーマップからRGB値を取得\n",
    "        rgb = cmap(normalized_value)\n",
    "\n",
    "        # rgbは(n, 4)の配列になっているので、4の内訳はRGBAの順\n",
    "        # 今回はAは使わないので、Aの代わりにもとのもとの標高値を入れておく\n",
    "        # rgb[:, 3] = mainstream_value\n",
    "        \n",
    "        # 出力画像を用意   \n",
    "        h, w = self.nrows, self.ncols\n",
    "        output_img = np.zeros((h, w, 4))\n",
    "        \n",
    "        # マスクを使って本流セルにRGB値を書き込み\n",
    "        mask_2d = np.reshape(mask, (h, w))\n",
    "        output_img[mask_2d==1, :] = rgb\n",
    "        \n",
    "        return output_img\n",
    "    \n",
    "    def extract_downstream_area(self, value_array: np.ndarray, \n",
    "                                cols_from_outlet: int, rows_from_outlet: int) -> np.ndarray:\n",
    "\n",
    "        \"\"\"\n",
    "        河口から指定した行数、列数だけ下流エリアをvalue_arrayから抽出する。\n",
    "        そのとき、列方向には河口ノードを中心として左右にcols_from_outletだけ抽出する。\n",
    "        行方向には河口ノードを中心として上流側にrows_from_outletだけ抽出する。\n",
    "\n",
    "        河口がy=0, 上流がy=ncolsの方向にあるとする。\n",
    "\n",
    "        Parameters\n",
    "        ----------\n",
    "        value_array : np.ndarray\n",
    "            抽出元の配列\n",
    "        cols_from_outlet : int\n",
    "            河口ノードから左右に抽出する列数\n",
    "        rows_from_outlet : int\n",
    "            河口ノードから上流側に抽出する行数\n",
    "\n",
    "        Returns\n",
    "        -------\n",
    "        downstream_area : np.ndarray\n",
    "            河口から指定した行数、列数だけ下流エリアを抽出した配列\n",
    "        \"\"\"         \n",
    "        # 河口ノードの列番号\n",
    "        outlet_col = self.outlet_col\n",
    "        # 河口ノードの行番号\n",
    "        outlet_row = self.outlet_row\n",
    "\n",
    "        # 河口ノードからcols_from_outletだけ左右に抽出する\n",
    "        left_col = outlet_col - cols_from_outlet\n",
    "        right_col = outlet_col + cols_from_outlet\n",
    "        # 河口ノードからrows_from_outletだけ上流側に抽出する\n",
    "        upstream_row = rows_from_outlet - outlet_row\n",
    "\n",
    "        # 河口ノードから指定した行数、列数だけ下流エリアを抽出する\n",
    "        if value_array.ndim == 2:\n",
    "            downstream_area = value_array[:upstream_row, left_col:right_col]\n",
    "        elif value_array.ndim == 3:\n",
    "            downstream_area = value_array[:upstream_row, left_col:right_col, :]\n",
    "\n",
    "        return downstream_area\n",
    "    \n",
    "    def make_image(self, image_array: np.ndarray, show_image: bool=True, \n",
    "                   save_image: bool=True) -> None:\n",
    "\n",
    "        \"\"\"\n",
    "        引数のimage_arrayをもとに画像を作成する。そのとき、画像左下に年代を表示する。\n",
    "        また、軸は非表示にする。\n",
    "\n",
    "        Parameters\n",
    "        ----------\n",
    "        image_array : np.ndarray\n",
    "            画像のもととなる配列\n",
    "        show_image : bool, optional\n",
    "            画像を表示するかどうか. The default is True.\n",
    "        save_image : bool, optional\n",
    "            画像を保存するかどうか. The default is True.\n",
    "        \"\"\"        \n",
    "\n",
    "        image_row, image_col = image_array.shape[:2]\n",
    "        fig_hegiht = 7\n",
    "        fig_width = fig_hegiht * image_col / image_row\n",
    "        fig, ax = plt.subplots(figsize=(fig_width, fig_hegiht), tight_layout=True)\n",
    "        ax.imshow(np.flipud(image_array))\n",
    "        ax.axis(\"off\")\n",
    "        fig.text(0, 0, f\"{self.read_Yr}yr\", fontsize=20)\n",
    "\n",
    "        if save_image:\n",
    "            # dpi = max(image_row, image_col)\n",
    "            fig.savefig(f\"{self.output_dir}/{self.read_Yr}yr.png\")\n",
    "\n",
    "        if show_image:\n",
    "            plt.show()\n",
    "        else:\n",
    "            plt.clf()\n",
    "            plt.close()\n",
    "\n",
    "    def make_channel_masked_image(self):\n",
    "\n",
    "        \"\"\"\n",
    "        指定した年度のデータを読み込み、\n",
    "        本流路のマスクを作成し、そのマスクを用いて画像を作成する。\n",
    "        \"\"\"        \n",
    "\n",
    "        for Yr in self.Yrs:\n",
    "\n",
    "            self.initialize_at_readYr(Yr)\n",
    "            channel_mask = self.create_channel_mask()\n",
    "            channel_mask = self.create_channel_mask()\n",
    "            \n",
    "            # マスクの背景変数を取得\n",
    "            if self.background_vname == \"S_s\":\n",
    "                value = self.S_s\n",
    "            elif self.background_vname == \"da\":\n",
    "                value = self.da\n",
    "            elif self.background_vname == \"z\":\n",
    "                value = self.z\n",
    "            else:\n",
    "                raise ValueError(\"background_vname must be one of S_s, da, z.\")\n",
    "\n",
    "            min_value = self.min_value_for_normalization\n",
    "            max_value = self.max_value_for_normalization\n",
    "\n",
    "            output_img = self.create_gradient_image(mask=channel_mask, \n",
    "                                                    value=value, \n",
    "                                                    min_value=min_value, \n",
    "                                                    max_value=max_value, \n",
    "                                                    cmap=self.cmap)\n",
    "\n",
    "            dwonstream_area = self.extract_downstream_area(value_array=output_img, \n",
    "                                                           cols_from_outlet=self.cols_from_outlet, \n",
    "                                                           rows_from_outlet=self.rows_from_outlet)\n",
    "            \n",
    "            self.make_image(image_array=dwonstream_area, show_image=False, save_image=True)\n",
    "\n",
    "\n",
    "\n",
    "class ChannelImageMaker:\n",
    "\n",
    "    \"\"\"\n",
    "    ChannelImageMaker\n",
    "    -----------------\n",
    "    ChannelExtractorオブジェクトを複数作成し、それぞれのオブジェクトを用いて並列処理で画像を作成する。\n",
    "    \"\"\"    \n",
    "\n",
    "    \n",
    "    def __init__(self, ParamList):\n",
    "\n",
    "        \"\"\"\n",
    "        Parameters\n",
    "        ----------\n",
    "        ParamList : List[OrderedDict]\n",
    "            それぞれ異なる計算条件でのHDFファイルから画像を作成するためのパラメータのリスト。\n",
    "            これらのパラメータをもとに、ChannelExtractorクラスのインスタンスを作成する。\n",
    "        \"\"\"        \n",
    "\n",
    "        self.processingNum = len(ParamList)\n",
    "        self.instanceList = [] # それぞれ異なる計算条件でのLataralSimilateManagerクラスのインスタンスを要素にもつ\n",
    "        for pm in ParamList:\n",
    "            self.instanceList.append(ChannelExtractor(**pm))\n",
    "\n",
    "                           \n",
    "    def make_images(self):\n",
    "        # p = multiprocessing.Pool(self.processingNum)\n",
    "        # print(\"making image......................\")\n",
    "        # p.map(self._make_image, self.instanceList)\n",
    "        # print(\"--------Finish--------------------\")\n",
    "\n",
    "        progress_bar = np.arange(self.processingNum)\n",
    "        for i in tqdm(progress_bar):\n",
    "            self._make_image(self.instanceList[i])\n",
    "        \n",
    "    def _make_image(self, chex_obj: ChannelExtractor):\n",
    "        return chex_obj.make_channel_masked_image()\n"
   ]
  },
  {
   "cell_type": "code",
   "execution_count": 70,
   "metadata": {},
   "outputs": [
    {
     "data": {
      "text/plain": [
       "40"
      ]
     },
     "execution_count": 70,
     "metadata": {},
     "output_type": "execute_result"
    }
   ],
   "source": [
    "chex.Dataset_Pointer"
   ]
  },
  {
   "cell_type": "code",
   "execution_count": null,
   "metadata": {},
   "outputs": [],
   "source": [
    "cim"
   ]
  },
  {
   "cell_type": "markdown",
   "metadata": {},
   "source": [
    "# ChannelExtractor"
   ]
  },
  {
   "cell_type": "markdown",
   "metadata": {},
   "source": [
    "##  インスタンス化"
   ]
  },
  {
   "cell_type": "code",
   "execution_count": 31,
   "metadata": {},
   "outputs": [],
   "source": [
    "dirpath = r\"Z:\\miyata\\landlab_exp\\width_analysis\\simulation result\\sample\"\n",
    "HDF_name = r\"solver_ffwindow_C_ver2_ncols_150_150.h5\"\n",
    "\n",
    "chex = ChannelExtractor(dirpath, HDF_name)\n",
    "\n",
    "Yr = 500000\n",
    "\n",
    "chex.initialize_at_readYr(Yr)"
   ]
  },
  {
   "cell_type": "code",
   "execution_count": 34,
   "metadata": {},
   "outputs": [
    {
     "data": {
      "text/plain": [
       "{(75,\n",
       "  22035): {'ids': array([   75,   226,   377,   228,   379,   529,   680,   831,   682,\n",
       "           533,   384,   385,   386,   537,   538,   689,   840,   990,\n",
       "          1139,  1288,  1287,  1437,  1586,  1735,  1885,  2036,  2187,\n",
       "          2338,  2339,  2190,  2039,  1890,  1741,  1742,  1893,  2044,\n",
       "          2195,  2344,  2343,  2342,  2492,  2642,  2641,  2790,  2939,\n",
       "          3089,  3240,  3391,  3540,  3689,  3839,  3990,  4141,  4291,\n",
       "          4440,  4590,  4741,  4892,  4893,  4894,  4895,  4746,  4897,\n",
       "          5048,  5197,  5346,  5345,  5494,  5644,  5795,  5945,  6096,\n",
       "          6097,  6248,  6249,  6100,  5950,  5799,  5649,  5500,  5501,\n",
       "          5502,  5653,  5804,  5955,  6105,  6255,  6404,  6554,  6703,\n",
       "          6852,  6701,  6850,  7000,  7150,  7300,  7301,  7452,  7453,\n",
       "          7304,  7305,  7306,  7157,  7308,  7459,  7608,  7757,  7906,\n",
       "          8055,  8204,  8353,  8503,  8654,  8805,  8955,  9104,  9253,\n",
       "          9404,  9555,  9706,  9856, 10005, 10004, 10153, 10304, 10455,\n",
       "         10606, 10757, 10908, 11059, 11210, 11361, 11512, 11661, 11810,\n",
       "         11809, 11658, 11507, 11506, 11655, 11804, 11954, 12105, 12255,\n",
       "         12404, 12553, 12552, 12551, 12400, 12249, 12100, 11950, 11799,\n",
       "         11798, 11647, 11498, 11348, 11198, 11047, 11046, 11195, 11344,\n",
       "         11493, 11492, 11641, 11790, 11940, 12090, 12241, 12390, 12540,\n",
       "         12691, 12842, 12991, 12990, 12989, 13138, 13289, 13438, 13587,\n",
       "         13586, 13436, 13285, 13284, 13283, 13433, 13583, 13733, 13882,\n",
       "         13731, 13580, 13579, 13428, 13277, 13128, 12979, 12828, 12677,\n",
       "         12526, 12375, 12224, 12073, 11922, 12071, 12220, 12069, 11918,\n",
       "         11768, 11617, 11616, 11765, 11914, 12063, 12214, 12363, 12512,\n",
       "         12361, 12210, 12359, 12509, 12658, 12657, 12506, 12355, 12204,\n",
       "         12055, 11906, 11756, 11605, 11604, 11753, 11902, 11901, 12050,\n",
       "         12199, 12348, 12347, 12346, 12195, 12044, 11895, 11744, 11593,\n",
       "         11442, 11291, 11440, 11590, 11739, 11738, 11887, 12037, 12187,\n",
       "         12338, 12489, 12638, 12787, 12636, 12785, 12784, 12633, 12482,\n",
       "         12332, 12181, 12030, 11881, 11730, 11579, 11728, 11877, 12027,\n",
       "         12176, 12325, 12475, 12626, 12777, 12928, 13079, 13228, 13377,\n",
       "         13526, 13675, 13826, 13977, 14126, 14275, 14426, 14577, 14726,\n",
       "         14876, 15026, 15177, 15178, 15179, 15330, 15481, 15482, 15483,\n",
       "         15634, 15784, 15934, 16083, 16233, 16384, 16385, 16386, 16237,\n",
       "         16087, 15937, 15788, 15789, 15940, 16091, 16242, 16391, 16540,\n",
       "         16691, 16840, 16991, 16992, 17143, 17292, 17441, 17590, 17741,\n",
       "         17890, 18041, 18190, 18341, 18492, 18641, 18792, 18793, 18644,\n",
       "         18645, 18496, 18346, 18197, 18198, 18349, 18500, 18501, 18352,\n",
       "         18203, 18204, 18205, 18056, 17907, 17757, 17608, 17759, 17910,\n",
       "         17911, 17762, 17613, 17464, 17465, 17616, 17617, 17768, 17919,\n",
       "         18070, 17921, 17922, 17773, 17623, 17473, 17324, 17173, 17022,\n",
       "         16872, 16722, 16571, 16420, 16269, 16120, 15970, 15821, 15822,\n",
       "         15973, 16124, 15975, 15826, 15677, 15678, 15829, 15680, 15531,\n",
       "         15682, 15683, 15684, 15835, 15986, 16137, 16288, 16139, 16140,\n",
       "         16141, 16292, 16293, 16294, 16295, 16296, 16297, 16298, 16299,\n",
       "         16300, 16151, 16001, 15852, 15853, 16004, 16155, 16305, 16455,\n",
       "         16605, 16754, 16905, 17055, 17206, 17355, 17354, 17353, 17502,\n",
       "         17652, 17803, 17954, 18103, 18254, 18255, 18406, 18557, 18706,\n",
       "         18856, 19005, 19155, 19305, 19456, 19457, 19608, 19609, 19760,\n",
       "         19911, 19762, 19612, 19462, 19312, 19161, 19011, 18860, 18711,\n",
       "         18561, 18412, 18413, 18264, 18115, 17966, 17817, 17666, 17516,\n",
       "         17366, 17217, 17066, 16917, 16766, 16616, 16466, 16317, 16168,\n",
       "         16319, 16320, 16471, 16622, 16623, 16624, 16625, 16476, 16477,\n",
       "         16478, 16629, 16780, 16781, 16782, 16933, 16784, 16935, 17085,\n",
       "         17235, 17384, 17534, 17685, 17835, 17986, 17837, 17688, 17839,\n",
       "         17990, 17991, 18142, 18292, 18443, 18594, 18744, 18895, 19045,\n",
       "         19195, 19346, 19496, 19646, 19797, 19946, 20095, 20246, 20397,\n",
       "         20546, 20695, 20845, 20995, 21145, 21295, 21446, 21595, 21746,\n",
       "         21895, 22044, 22193, 22342, 22191, 22190, 22189, 22038, 22037,\n",
       "         22036, 22035]), 'distances': array([     0.        ,    141.42135624,    282.84271247,    424.26406871,\n",
       "            565.68542495,    665.68542495,    807.10678119,    948.52813742,\n",
       "           1089.94949366,   1231.3708499 ,   1372.79220614,   1472.79220614,\n",
       "           1572.79220614,   1714.21356237,   1814.21356237,   1955.63491861,\n",
       "           2097.05627485,   2197.05627485,   2338.47763109,   2479.89898732,\n",
       "           2579.89898732,   2679.89898732,   2821.32034356,   2962.7416998 ,\n",
       "           3062.7416998 ,   3204.16305603,   3345.58441227,   3487.00576851,\n",
       "           3587.00576851,   3728.42712475,   3869.84848098,   4011.26983722,\n",
       "           4152.69119346,   4252.69119346,   4394.1125497 ,   4535.53390593,\n",
       "           4676.95526217,   4818.37661841,   4918.37661841,   5018.37661841,\n",
       "           5118.37661841,   5218.37661841,   5318.37661841,   5459.79797464,\n",
       "           5601.21933088,   5701.21933088,   5842.64068712,   5984.06204336,\n",
       "           6125.48339959,   6266.90475583,   6366.90475583,   6508.32611207,\n",
       "           6649.74746831,   6749.74746831,   6891.16882454,   6991.16882454,\n",
       "           7132.59018078,   7274.01153702,   7374.01153702,   7474.01153702,\n",
       "           7574.01153702,   7715.43289326,   7856.85424949,   7998.27560573,\n",
       "           8139.69696197,   8281.1183182 ,   8381.1183182 ,   8522.53967444,\n",
       "           8622.53967444,   8763.96103068,   8863.96103068,   9005.38238692,\n",
       "           9105.38238692,   9246.80374315,   9346.80374315,   9488.22509939,\n",
       "           9588.22509939,   9729.64645563,   9829.64645563,   9971.06781187,\n",
       "          10071.06781187,  10171.06781187,  10312.4891681 ,  10453.91052434,\n",
       "          10595.33188058,  10695.33188058,  10795.33188058,  10936.75323681,\n",
       "          11036.75323681,  11178.17459305,  11319.59594929,  11461.01730553,\n",
       "          11602.43866176,  11702.43866176,  11802.43866176,  11902.43866176,\n",
       "          12002.43866176,  12143.860018  ,  12243.860018  ,  12385.28137424,\n",
       "          12485.28137424,  12585.28137424,  12726.70273048,  12868.12408671,\n",
       "          13009.54544295,  13150.96679919,  13292.38815543,  13433.80951166,\n",
       "          13575.2308679 ,  13716.65222414,  13858.07358037,  13958.07358037,\n",
       "          14099.49493661,  14240.91629285,  14340.91629285,  14482.33764909,\n",
       "          14623.75900532,  14765.18036156,  14906.6017178 ,  15048.02307404,\n",
       "          15148.02307404,  15289.44443027,  15389.44443027,  15530.86578651,\n",
       "          15672.28714275,  15813.70849898,  15955.12985522,  16096.55121146,\n",
       "          16237.9725677 ,  16379.39392393,  16520.81528017,  16662.23663641,\n",
       "          16803.65799265,  16945.07934888,  17086.50070512,  17186.50070512,\n",
       "          17327.92206136,  17469.3434176 ,  17569.3434176 ,  17710.76477383,\n",
       "          17852.18613007,  17952.18613007,  18093.60748631,  18193.60748631,\n",
       "          18335.02884254,  18476.45019878,  18576.45019878,  18676.45019878,\n",
       "          18817.87155502,  18959.29291126,  19100.71426749,  19200.71426749,\n",
       "          19342.13562373,  19442.13562373,  19583.55697997,  19724.97833621,\n",
       "          19824.97833621,  19924.97833621,  20066.39969244,  20166.39969244,\n",
       "          20307.82104868,  20449.24240492,  20590.66376115,  20690.66376115,\n",
       "          20832.08511739,  20973.50647363,  21073.50647363,  21173.50647363,\n",
       "          21314.92782987,  21456.3491861 ,  21556.3491861 ,  21697.77054234,\n",
       "          21839.19189858,  21980.61325482,  22080.61325482,  22180.61325482,\n",
       "          22322.03461105,  22463.45596729,  22604.87732353,  22746.29867977,\n",
       "          22846.29867977,  22946.29867977,  23087.720036  ,  23187.720036  ,\n",
       "          23287.720036  ,  23387.720036  ,  23487.720036  ,  23587.720036  ,\n",
       "          23729.14139224,  23870.56274848,  24011.98410471,  24111.98410471,\n",
       "          24253.40546095,  24394.82681719,  24536.24817343,  24677.66952966,\n",
       "          24819.0908859 ,  24960.51224214,  25101.93359838,  25243.35495461,\n",
       "          25384.77631085,  25526.19766709,  25667.61902332,  25809.04037956,\n",
       "          25950.4617358 ,  26091.88309204,  26233.30444827,  26333.30444827,\n",
       "          26474.72580451,  26574.72580451,  26716.14716075,  26857.56851699,\n",
       "          26998.98987322,  27140.41122946,  27281.8325857 ,  27423.25394194,\n",
       "          27564.67529817,  27706.09665441,  27847.51801065,  27947.51801065,\n",
       "          28088.93936688,  28188.93936688,  28330.36072312,  28471.78207936,\n",
       "          28613.2034356 ,  28754.62479183,  28896.04614807,  28996.04614807,\n",
       "          29137.46750431,  29237.46750431,  29378.88886055,  29520.31021678,\n",
       "          29620.31021678,  29761.73157302,  29903.15292926,  30044.57428549,\n",
       "          30144.57428549,  30244.57428549,  30385.99564173,  30527.41699797,\n",
       "          30668.83835421,  30810.25971044,  30951.68106668,  31093.10242292,\n",
       "          31234.52377916,  31375.94513539,  31475.94513539,  31617.36649163,\n",
       "          31717.36649163,  31858.78784787,  31958.78784787,  32058.78784787,\n",
       "          32200.20920411,  32341.63056034,  32483.05191658,  32624.47327282,\n",
       "          32765.89462905,  32907.31598529,  33007.31598529,  33148.73734153,\n",
       "          33290.15869777,  33390.15869777,  33531.580054  ,  33673.00141024,\n",
       "          33814.42276648,  33955.84412272,  34097.26547895,  34238.68683519,\n",
       "          34380.10819143,  34480.10819143,  34621.52954766,  34762.9509039 ,\n",
       "          34862.9509039 ,  35004.37226014,  35145.79361638,  35287.21497261,\n",
       "          35428.63632885,  35570.05768509,  35711.47904133,  35852.90039756,\n",
       "          35994.3217538 ,  36135.74311004,  36277.16446628,  36418.58582251,\n",
       "          36560.00717875,  36701.42853499,  36842.84989122,  36984.27124746,\n",
       "          37084.27124746,  37184.27124746,  37325.6926037 ,  37425.6926037 ,\n",
       "          37525.6926037 ,  37667.11395994,  37808.53531617,  37908.53531617,\n",
       "          38008.53531617,  38149.95667241,  38249.95667241,  38349.95667241,\n",
       "          38491.37802865,  38591.37802865,  38732.79938489,  38832.79938489,\n",
       "          38932.79938489,  39074.22074112,  39174.22074112,  39274.22074112,\n",
       "          39415.64209736,  39515.64209736,  39657.0634536 ,  39798.48480983,\n",
       "          39939.90616607,  40081.32752231,  40222.74887855,  40364.17023478,\n",
       "          40505.59159102,  40647.01294726,  40747.01294726,  40888.4343035 ,\n",
       "          41029.85565973,  41171.27701597,  41312.69837221,  41454.11972845,\n",
       "          41595.54108468,  41736.96244092,  41878.38379716,  42019.80515339,\n",
       "          42161.22650963,  42302.64786587,  42444.06922211,  42544.06922211,\n",
       "          42685.49057834,  42785.49057834,  42926.91193458,  43026.91193458,\n",
       "          43168.33329082,  43268.33329082,  43409.75464706,  43551.17600329,\n",
       "          43651.17600329,  43792.59735953,  43934.01871577,  44034.01871577,\n",
       "          44134.01871577,  44275.44007201,  44416.86142824,  44516.86142824,\n",
       "          44658.28278448,  44799.70414072,  44941.12549695,  45041.12549695,\n",
       "          45182.54685319,  45323.96820943,  45465.38956567,  45565.38956567,\n",
       "          45706.8109219 ,  45806.8109219 ,  45948.23227814,  46089.65363438,\n",
       "          46231.07499062,  46372.49634685,  46472.49634685,  46613.91770309,\n",
       "          46713.91770309,  46813.91770309,  46955.33905933,  47096.76041556,\n",
       "          47238.1817718 ,  47338.1817718 ,  47438.1817718 ,  47579.60312804,\n",
       "          47721.02448428,  47862.44584051,  48003.86719675,  48103.86719675,\n",
       "          48245.28855299,  48345.28855299,  48486.70990923,  48628.13126546,\n",
       "          48769.5526217 ,  48910.97397794,  49052.39533418,  49152.39533418,\n",
       "          49293.81669041,  49435.23804665,  49576.65940289,  49718.08075912,\n",
       "          49818.08075912,  49918.08075912,  50059.50211536,  50200.9234716 ,\n",
       "          50342.34482784,  50483.76618407,  50625.18754031,  50725.18754031,\n",
       "          50825.18754031,  50966.60889655,  51066.60889655,  51166.60889655,\n",
       "          51266.60889655,  51366.60889655,  51466.60889655,  51566.60889655,\n",
       "          51666.60889655,  51766.60889655,  51908.03025279,  52008.03025279,\n",
       "          52149.45160902,  52249.45160902,  52390.87296526,  52532.2943215 ,\n",
       "          52632.2943215 ,  52732.2943215 ,  52832.2943215 ,  52973.71567773,\n",
       "          53115.13703397,  53215.13703397,  53356.55839021,  53497.97974645,\n",
       "          53597.97974645,  53697.97974645,  53839.40110268,  53939.40110268,\n",
       "          54080.82245892,  54222.24381516,  54363.6651714 ,  54505.08652763,\n",
       "          54605.08652763,  54746.50788387,  54887.92924011,  55029.35059635,\n",
       "          55129.35059635,  55270.77195258,  55370.77195258,  55470.77195258,\n",
       "          55612.19330882,  55712.19330882,  55853.61466506,  55953.61466506,\n",
       "          56095.03602129,  56236.45737753,  56377.87873377,  56477.87873377,\n",
       "          56577.87873377,  56677.87873377,  56819.30009001,  56919.30009001,\n",
       "          57060.72144624,  57202.14280248,  57302.14280248,  57443.56415872,\n",
       "          57543.56415872,  57684.98551496,  57826.40687119,  57967.82822743,\n",
       "          58109.24958367,  58250.6709399 ,  58350.6709399 ,  58450.6709399 ,\n",
       "          58592.09229614,  58733.51365238,  58874.93500862,  59016.35636485,\n",
       "          59116.35636485,  59216.35636485,  59357.77772109,  59499.19907733,\n",
       "          59640.62043357,  59740.62043357,  59882.0417898 ,  60023.46314604,\n",
       "          60123.46314604,  60223.46314604,  60323.46314604,  60464.88450228,\n",
       "          60564.88450228,  60664.88450228,  60806.30585852,  60947.72721475,\n",
       "          61047.72721475,  61147.72721475,  61289.14857099,  61430.56992723,\n",
       "          61571.99128346,  61671.99128346,  61771.99128346,  61913.4126397 ,\n",
       "          62013.4126397 ,  62154.83399594,  62254.83399594,  62396.25535218,\n",
       "          62537.67670841,  62679.09806465,  62820.51942089,  62961.94077713,\n",
       "          63061.94077713,  63203.36213336,  63303.36213336,  63444.7834896 ,\n",
       "          63586.20484584,  63686.20484584,  63827.62620208,  63927.62620208,\n",
       "          64027.62620208,  64169.04755831,  64269.04755831,  64369.04755831,\n",
       "          64510.46891455,  64651.89027079,  64793.31162702,  64934.73298326,\n",
       "          65076.1543395 ,  65217.57569574,  65358.99705197,  65458.99705197,\n",
       "          65558.99705197,  65658.99705197,  65758.99705197,  65900.41840821,\n",
       "          66041.83976445,  66183.26112069,  66324.68247692,  66466.10383316,\n",
       "          66607.5251894 ,  66748.94654563,  66890.36790187,  66990.36790187,\n",
       "          67090.36790187,  67231.78925811,  67331.78925811,  67431.78925811,\n",
       "          67531.78925811]), 'color': (0.26700400000000002,\n",
       "   0.0048739999999999999,\n",
       "   0.32941500000000001,\n",
       "   1.0)}}"
      ]
     },
     "execution_count": 34,
     "metadata": {},
     "output_type": "execute_result"
    }
   ],
   "source": [
    "chex.prf._data_struct[chex.outlet_id]"
   ]
  },
  {
   "cell_type": "code",
   "execution_count": 23,
   "metadata": {},
   "outputs": [
    {
     "data": {
      "text/plain": [
       "array([75])"
      ]
     },
     "execution_count": 23,
     "metadata": {},
     "output_type": "execute_result"
    }
   ],
   "source": [
    "chex.prf._outlet_nodes"
   ]
  },
  {
   "cell_type": "code",
   "execution_count": 25,
   "metadata": {},
   "outputs": [
    {
     "data": {
      "text/plain": [
       "(array([     0.,    100.,    200., ...,  14700.,  14800.,  14900.]),\n",
       " array([     0.,      0.,      0., ...,  14900.,  14900.,  14900.]))"
      ]
     },
     "execution_count": 25,
     "metadata": {},
     "output_type": "execute_result"
    }
   ],
   "source": [
    "mg = chex.mg\n",
    "mg.node_x, mg.node_y"
   ]
  },
  {
   "cell_type": "code",
   "execution_count": 35,
   "metadata": {},
   "outputs": [
    {
     "name": "stdout",
     "output_type": "stream",
     "text": [
      "outlet_x:  7500.0\n",
      "outlet_col:  75\n",
      "check:  7500.0\n",
      "outlet_y:  0.0\n",
      "outlet_row:  0\n",
      "check:  0.0\n"
     ]
    }
   ],
   "source": [
    "print(\"outlet_x: \", chex.outlet_x)\n",
    "print(\"outlet_col: \", chex.outlet_col)\n",
    "print(\"check: \", mg.node_x[chex.outlet_col])\n",
    "\n",
    "print(\"outlet_y: \", chex.outlet_y)\n",
    "print(\"outlet_row: \", chex.outlet_row)\n",
    "print(\"check: \", mg.node_y[chex.outlet_row])"
   ]
  },
  {
   "cell_type": "markdown",
   "metadata": {},
   "source": [
    "### 関数テスト"
   ]
  },
  {
   "cell_type": "markdown",
   "metadata": {},
   "source": [
    "#### create_channel_mask"
   ]
  },
  {
   "cell_type": "code",
   "execution_count": 5,
   "metadata": {},
   "outputs": [
    {
     "data": {
      "image/png": "[encoded data removed]",
      "text/plain": [
       "<Figure size 432x288 with 2 Axes>"
      ]
     },
     "metadata": {
      "needs_background": "light"
     },
     "output_type": "display_data"
    }
   ],
   "source": [
    "channel_mask = chex.create_channel_mask()\n",
    "\n",
    "imshow_grid(chex.mg, \"channel_mask\", color_for_closed=\"none\", cmap=\"binary\", colorbar_label=\"channel mask\")"
   ]
  },
  {
   "cell_type": "markdown",
   "metadata": {},
   "source": [
    "#### create_masked_elevation_map"
   ]
  },
  {
   "cell_type": "code",
   "execution_count": 6,
   "metadata": {},
   "outputs": [
    {
     "data": {
      "image/png": "[encoded data removed]",
      "text/plain": [
       "<Figure size 432x288 with 2 Axes>"
      ]
     },
     "metadata": {
      "needs_background": "light"
     },
     "output_type": "display_data"
    }
   ],
   "source": [
    "dirpath = r\"Z:\\miyata\\landlab_exp\\width_analysis\\simulation result\\sample\"\n",
    "HDF_name = r\"solver_ffwindow_C_ver2_ncols_150_150.h5\"\n",
    "\n",
    "cim = ChannelImageMaker(dirpath, HDF_name)\n",
    "\n",
    "Yr = 500000\n",
    "chex.initialize_at_readYr(Yr)\n",
    "channel_mask = chex.create_channel_mask()\n",
    "masked_elevation_map = chex.create_masked_elevation_map(channel_mask)\n",
    "\n",
    "imshow_grid(chex.mg, \"masked_elevation\", colorbar_label=\"elevation (m)\")"
   ]
  },
  {
   "cell_type": "code",
   "execution_count": 30,
   "metadata": {},
   "outputs": [
    {
     "data": {
      "text/plain": [
       "<matplotlib.image.AxesImage at 0x173b746ee20>"
      ]
     },
     "execution_count": 30,
     "metadata": {},
     "output_type": "execute_result"
    },
    {
     "data": {
      "image/png": "[encoded data removed]",
      "text/plain": [
       "<Figure size 432x288 with 1 Axes>"
      ]
     },
     "metadata": {
      "needs_background": "light"
     },
     "output_type": "display_data"
    }
   ],
   "source": [
    "plt.imshow(masked_elevation_map.reshape(chex.nrows, chex.ncols), cmap=\"terrain\")"
   ]
  },
  {
   "cell_type": "code",
   "execution_count": 7,
   "metadata": {},
   "outputs": [
    {
     "data": {
      "text/plain": [
       "<AxesSubplot:ylabel='Count'>"
      ]
     },
     "execution_count": 7,
     "metadata": {},
     "output_type": "execute_result"
    },
    {
     "data": {
      "image/png": "[encoded data removed]",
      "text/plain": [
       "<Figure size 432x288 with 1 Axes>"
      ]
     },
     "metadata": {
      "needs_background": "light"
     },
     "output_type": "display_data"
    }
   ],
   "source": [
    "S_s = chex.S_s[chex.flow_node_ids]\n",
    "sns.histplot(S_s, bins=100)"
   ]
  },
  {
   "cell_type": "markdown",
   "metadata": {},
   "source": [
    "#### create_gradient_image"
   ]
  },
  {
   "cell_type": "code",
   "execution_count": 22,
   "metadata": {},
   "outputs": [
    {
     "data": {
      "text/plain": [
       "(-0.5, 149.5, 149.5, -0.5)"
      ]
     },
     "execution_count": 22,
     "metadata": {},
     "output_type": "execute_result"
    },
    {
     "data": {
      "image/png": "[encoded data removed]",
      "text/plain": [
       "<Figure size 1440x1440 with 2 Axes>"
      ]
     },
     "metadata": {
      "needs_background": "light"
     },
     "output_type": "display_data"
    }
   ],
   "source": [
    "dirpath = r\"Z:\\miyata\\landlab_exp\\width_analysis\\simulation result\\sample\"\n",
    "HDF_name = r\"solver_ffwindow_C_ver2_ncols_150_150.h5\"\n",
    "\n",
    "cim = ChannelImageMaker(dirpath, HDF_name)\n",
    "\n",
    "Yr = 100\n",
    "chex.initialize_at_readYr(Yr)\n",
    "channel_mask = chex.create_channel_mask()\n",
    "\n",
    "# cmap = plt.cm.get_cmap(\"rainbow\")\n",
    "# cmap = plt.cm.get_cmap(\"binary\")\n",
    "# cmap = plt.cm.get_cmap(\"terrain\")\n",
    "cmap = plt.cm.get_cmap(\"viridis\")\n",
    "# z = chex.z\n",
    "# zmin = np.min(z)\n",
    "# zmax = np.max(z)\n",
    "S_s = chex.S_s\n",
    "S_s_min = 0.0\n",
    "S_s_max = 0.01\n",
    "output_img = chex.create_gradient_image(mask=channel_mask, value=S_s, min_value=S_s_min, max_value=S_s_max, cmap=cmap)\n",
    "\n",
    "plt.figure(figsize=(20, 20))\n",
    "plt.imshow(np.flipud(output_img))\n",
    "plt.colorbar()\n",
    "\n",
    "# 軸目盛を消す\n",
    "plt.axis(\"off\")\n"
   ]
  },
  {
   "cell_type": "code",
   "execution_count": 37,
   "metadata": {},
   "outputs": [
    {
     "data": {
      "text/plain": [
       "(150, 150, 4)"
      ]
     },
     "execution_count": 37,
     "metadata": {},
     "output_type": "execute_result"
    }
   ],
   "source": [
    "output_img.shape"
   ]
  },
  {
   "cell_type": "markdown",
   "metadata": {},
   "source": [
    "#### extract_downstream_area"
   ]
  },
  {
   "cell_type": "code",
   "execution_count": 62,
   "metadata": {},
   "outputs": [
    {
     "data": {
      "text/plain": [
       "(-0.5, 79.5, 89.5, -0.5)"
      ]
     },
     "execution_count": 62,
     "metadata": {},
     "output_type": "execute_result"
    },
    {
     "data": {
      "image/png": "[encoded data removed]",
      "text/plain": [
       "<Figure size 720x720 with 1 Axes>"
      ]
     },
     "metadata": {
      "needs_background": "light"
     },
     "output_type": "display_data"
    }
   ],
   "source": [
    "dirpath = r\"Z:\\miyata\\landlab_exp\\width_analysis\\simulation result\\sample\"\n",
    "HDF_name = r\"solver_ffwindow_C_ver2_ncols_150_150.h5\"\n",
    "\n",
    "chex = ChannelExtractor(dirpath, HDF_name)\n",
    "\n",
    "Yr = 500000\n",
    "\n",
    "chex.initialize_at_readYr(Yr)\n",
    "channel_mask = chex.create_channel_mask()\n",
    "\n",
    "# cmap = plt.cm.get_cmap(\"viridis\")\n",
    "cmap = plt.cm.get_cmap(\"binary\")\n",
    "S_s = chex.S_s\n",
    "S_s_min = 0.0\n",
    "S_s_max = 0.01\n",
    "output_img = chex.create_gradient_image(mask=channel_mask, value=S_s, min_value=S_s_min, max_value=S_s_max, cmap=cmap)\n",
    "\n",
    "dwonstream_area = chex.extract_downstream_area(value_array=output_img, cols_from_outlet=40, rows_from_outlet=90)\n",
    "\n",
    "plt.figure(figsize=(10, 10))\n",
    "plt.imshow(np.flipud(dwonstream_area))\n",
    "plt.title(f\"{Yr} yr\")\n",
    "# plt.colorbar()\n",
    "\n",
    "# 軸目盛を消す\n",
    "plt.axis(\"off\")\n"
   ]
  },
  {
   "cell_type": "markdown",
   "metadata": {},
   "source": [
    "#### make_image"
   ]
  },
  {
   "cell_type": "code",
   "execution_count": 77,
   "metadata": {},
   "outputs": [
    {
     "data": {
      "image/png": "[encoded data removed]",
      "text/plain": [
       "<Figure size 448x504 with 1 Axes>"
      ]
     },
     "metadata": {
      "needs_background": "light"
     },
     "output_type": "display_data"
    }
   ],
   "source": [
    "dirpath = r\"Z:\\miyata\\landlab_exp\\width_analysis\\simulation result\\sample\"\n",
    "HDF_name = r\"solver_ffwindow_C_ver2_ncols_150_150.h5\"\n",
    "out_dirpath = r\"Z:\\miyata\\RiverShapeRecognition_exp\\test\\output\"\n",
    "\n",
    "chex = ChannelExtractor(dirpath, HDF_name, out_dirpath)\n",
    "\n",
    "Yr = 500000\n",
    "\n",
    "chex.initialize_at_readYr(Yr)\n",
    "channel_mask = chex.create_channel_mask()\n",
    "\n",
    "# cmap = plt.cm.get_cmap(\"viridis\")\n",
    "cmap = plt.cm.get_cmap(\"binary\")\n",
    "S_s = chex.S_s\n",
    "S_s_min = 0.0\n",
    "S_s_max = 0.01\n",
    "output_img = chex.create_gradient_image(mask=channel_mask, value=S_s, min_value=S_s_min, max_value=S_s_max, cmap=cmap)\n",
    "\n",
    "dwonstream_area = chex.extract_downstream_area(value_array=output_img, cols_from_outlet=40, rows_from_outlet=90)\n",
    "\n",
    "chex.make_image(image_array=dwonstream_area, show_image=True, save_image=True)\n"
   ]
  },
  {
   "cell_type": "code",
   "execution_count": 78,
   "metadata": {},
   "outputs": [],
   "source": [
    "import os\n",
    "from PIL import Image\n",
    "import numpy as np\n",
    "\n",
    "def read_image(img_path):\n",
    "\n",
    "  # 画像ファイルが存在するか確認\n",
    "  if not os.path.exists(img_path):\n",
    "    print(f\"File not found: {img_path}\")\n",
    "    return None\n",
    "\n",
    "  # 画像ファイルをPILで開く\n",
    "  img = Image.open(img_path)\n",
    "\n",
    "  # NumPy配列に変換 \n",
    "  img_array = np.asarray(img)\n",
    "\n",
    "  return img_array"
   ]
  },
  {
   "cell_type": "code",
   "execution_count": 79,
   "metadata": {},
   "outputs": [],
   "source": [
    "img_dir = r\"Z:\\miyata\\RiverShapeRecognition_exp\\test\\output\"\n",
    "img_fname = \"500000yr.png\"\n",
    "img_path = os.path.join(img_dir, img_fname)\n",
    "\n",
    "img_array = read_image(img_path)"
   ]
  },
  {
   "cell_type": "code",
   "execution_count": 80,
   "metadata": {},
   "outputs": [
    {
     "data": {
      "text/plain": [
       "(504, 448, 4)"
      ]
     },
     "execution_count": 80,
     "metadata": {},
     "output_type": "execute_result"
    }
   ],
   "source": [
    "img_array.shape"
   ]
  },
  {
   "cell_type": "code",
   "execution_count": 83,
   "metadata": {},
   "outputs": [
    {
     "data": {
      "text/plain": [
       "(-0.5, 447.5, 503.5, -0.5)"
      ]
     },
     "execution_count": 83,
     "metadata": {},
     "output_type": "execute_result"
    },
    {
     "data": {
      "image/png": "[encoded data removed]",
      "text/plain": [
       "<Figure size 432x288 with 1 Axes>"
      ]
     },
     "metadata": {
      "needs_background": "light"
     },
     "output_type": "display_data"
    }
   ],
   "source": [
    "plt.imshow(img_array)\n",
    "plt.axis(\"off\")"
   ]
  },
  {
   "cell_type": "markdown",
   "metadata": {},
   "source": [
    "#### make_channel_masked_image"
   ]
  },
  {
   "cell_type": "code",
   "execution_count": 97,
   "metadata": {},
   "outputs": [],
   "source": [
    "dirpath = r\"Z:\\miyata\\landlab_exp\\width_analysis\\simulation result\\sample\"\n",
    "HDF_name = r\"solver_ffwindow_C_ver2_ncols_150_150.h5\"\n",
    "out_dirpath = r\"Z:\\miyata\\RiverShapeRecognition_exp\\test\\output\"\n",
    "\n",
    "extractor_kwargs = {\"dirpath\": r\"Z:\\miyata\\landlab_exp\\width_analysis\\simulation result\\sample\",\n",
    "                    \"HDF_fname\": r\"solver_basic_ncols_150_150.h5\",\n",
    "                    \"output_dir\": r\"Z:\\miyata\\RiverShapeRecognition_exp\\test\\output\\Langston\",\n",
    "                    \"background_vname\": \"S_s\", \n",
    "                    \"min_value_for_normalization\": 0.0, \n",
    "                    \"max_value_for_normalization\": 0.01, \n",
    "                    \"Yrs\": np.arange(100, 100000, 10000),\n",
    "                    \"cols_from_outlet\": 40, \n",
    "                    \"rows_from_outlet\": 90,\n",
    "                    \"cmap\": \"viridis\"}\n",
    "\n",
    "chex = ChannelExtractor(**extractor_kwargs)\n",
    "\n",
    "chex.make_channel_masked_image()\n"
   ]
  },
  {
   "cell_type": "markdown",
   "metadata": {},
   "source": [
    "# ChannelImageMaker"
   ]
  },
  {
   "cell_type": "code",
   "execution_count": 3,
   "metadata": {},
   "outputs": [
    {
     "name": "stderr",
     "output_type": "stream",
     "text": [
      "100%|██████████| 2/2 [00:28<00:00, 14.12s/it]\n"
     ]
    }
   ],
   "source": [
    "dirpath_list = [\n",
    "    r\"Z:\\miyata\\landlab_exp\\width_analysis\\simulation result\\sample\",\n",
    "    r\"Z:\\miyata\\landlab_exp\\width_analysis\\simulation result\\sample\",\n",
    "]\n",
    "\n",
    "HDF_fname_list = [\n",
    "    r\"solver_basic_ncols_150_150.h5\",\n",
    "    r\"solver_ffwindow_C_ver2_ncols_150_150.h5\",\n",
    "]\n",
    "\n",
    "out_dirpath_list = [\n",
    "    r\"Z:\\miyata\\RiverShapeRecognition_exp\\test\\output\\Langston\",\n",
    "    r\"Z:\\miyata\\RiverShapeRecognition_exp\\test\\output\\ULE\",\n",
    "]\n",
    "\n",
    "\n",
    "basic_kwargs = {\"dirpath\": r\"Z:\\miyata\\landlab_exp\\width_analysis\\simulation result\\sample\",\n",
    "                \"HDF_fname\": r\"solver_basic_ncols_150_150.h5\",\n",
    "                \"output_dir\": r\"Z:\\miyata\\RiverShapeRecognition_exp\\test\\output\\Langston\",\n",
    "                \"background_vname\": \"S_s\", \n",
    "                \"min_value_for_normalization\": 0.0, \n",
    "                \"max_value_for_normalization\": 0.01, \n",
    "                \"Yrs\": np.arange(0, 800000, 100),\n",
    "                \"cols_from_outlet\": 40, \n",
    "                \"rows_from_outlet\": 90,\n",
    "                \"cmap\": \"viridis\"}\n",
    "\n",
    "ParamList = []\n",
    "\n",
    "for dirpath, HDF_fname, out_dirpath in zip(dirpath_list, HDF_fname_list, out_dirpath_list):\n",
    "    kwargs = basic_kwargs.copy()\n",
    "    kwargs[\"dirpath\"] = dirpath\n",
    "    kwargs[\"HDF_fname\"] = HDF_fname\n",
    "    kwargs[\"output_dir\"] = out_dirpath\n",
    "    ParamList.append(kwargs)\n",
    "\n",
    "cim = ChannelImageMaker(ParamList)\n",
    "cim.make_images()"
   ]
  },
  {
   "cell_type": "code",
   "execution_count": 6,
   "metadata": {},
   "outputs": [
    {
     "data": {
      "text/plain": [
       "800000"
      ]
     },
     "execution_count": 6,
     "metadata": {},
     "output_type": "execute_result"
    }
   ],
   "source": [
    "cim.instanceList[0].end_time"
   ]
  },
  {
   "cell_type": "code",
   "execution_count": null,
   "metadata": {},
   "outputs": [],
   "source": []
  }
 ],
 "metadata": {
  "kernelspec": {
   "display_name": "landlab_dev",
   "language": "python",
   "name": "python3"
  },
  "language_info": {
   "codemirror_mode": {
    "name": "ipython",
    "version": 3
   },
   "file_extension": ".py",
   "mimetype": "text/x-python",
   "name": "python",
   "nbconvert_exporter": "python",
   "pygments_lexer": "ipython3",
   "version": "3.9.18"
  },
  "orig_nbformat": 4
 },
 "nbformat": 4,
 "nbformat_minor": 2
}
